{
 "metadata": {
  "language_info": {
   "codemirror_mode": {
    "name": "ipython",
    "version": 3
   },
   "file_extension": ".py",
   "mimetype": "text/x-python",
   "name": "python",
   "nbconvert_exporter": "python",
   "pygments_lexer": "ipython3",
   "version": "3.6.3-final"
  },
  "orig_nbformat": 2,
  "kernelspec": {
   "name": "python3",
   "display_name": "Python 3.6.3 64-bit",
   "metadata": {
    "interpreter": {
     "hash": "e7c37ba80a6e54a3d63188245ab5de6a3e0d381993bcb1990a7020536fc2299e"
    }
   }
  }
 },
 "nbformat": 4,
 "nbformat_minor": 2,
 "cells": [
  {
   "cell_type": "code",
   "execution_count": 1,
   "metadata": {},
   "outputs": [],
   "source": [
    "import pandas as pd\n",
    "import numpy as np"
   ]
  },
  {
   "cell_type": "code",
   "execution_count": 2,
   "metadata": {},
   "outputs": [],
   "source": [
    "def GetPosition (array):\n",
    "    if isinstance(array,np.ndarray):\n",
    "        if array.__contains__('C'):\n",
    "            return 'C'\n",
    "        if array.__contains__('2B'):\n",
    "            return '2B'\n",
    "        if array.__contains__('SS'):\n",
    "            return 'SS'\n",
    "        if array.__contains__('3B'):\n",
    "            return '3B'\n",
    "        if array.__contains__('1B'):\n",
    "            return '1B'\n",
    "        if array.__contains__('OF'):\n",
    "            return 'OF'\n",
    "    else: \n",
    "        return '1B'"
   ]
  },
  {
   "cell_type": "code",
   "execution_count": 3,
   "metadata": {},
   "outputs": [],
   "source": [
    "atcbat = pd.read_csv(\"batters.csv\")"
   ]
  },
  {
   "cell_type": "code",
   "execution_count": 4,
   "metadata": {},
   "outputs": [],
   "source": [
    "atcpit = pd.read_csv(\"pitchers.csv\")"
   ]
  },
  {
   "cell_type": "code",
   "execution_count": 22,
   "metadata": {},
   "outputs": [],
   "source": [
    "hittersmean = atcbat\n",
    "pitchersmean = atcpit"
   ]
  },
  {
   "cell_type": "code",
   "execution_count": 23,
   "metadata": {},
   "outputs": [
    {
     "output_type": "execute_result",
     "data": {
      "text/plain": [
       "               Name Team    G   PA   AB    H  2B  3B  HR    R  ...   wOBA  \\\n",
       "0         Juan Soto  WSN  153  658  540  164  34   3  38  110  ...  0.426   \n",
       "1        Mike Trout  LAA  148  650  522  148  27   3  43  111  ...  0.420   \n",
       "2   Freddie Freeman  ATL  154  675  575  172  38   2  32  106  ...  0.396   \n",
       "3  Ronald Acuna Jr.  ATL  149  658  563  156  29   3  39  117  ...  0.390   \n",
       "4  Christian Yelich  MIL  148  649  547  150  29   3  35  103  ...  0.387   \n",
       "\n",
       "    ADP  -1  InterSD  InterSK  IntraSD  playerid    OBPVal    AVGVal  \\\n",
       "0   3.4 NaN     3.76     0.32     0.67     20123  5.476842  9.984940   \n",
       "1   5.9 NaN     2.56    -0.73     1.09     10155  4.875000  9.307737   \n",
       "2  12.9 NaN     2.12     0.00     1.20      5361  3.985240  9.848627   \n",
       "3   1.6 NaN     3.99     0.16     0.95     18401  2.677567  9.066174   \n",
       "4  10.7 NaN     3.30    -1.25     0.41     11477  3.125278  8.979678   \n",
       "\n",
       "       value  \n",
       "0  37.764735  \n",
       "1  36.605344  \n",
       "2  33.076271  \n",
       "3  36.253502  \n",
       "4  32.207490  \n",
       "\n",
       "[5 rows x 29 columns]"
      ],
      "text/html": "<div>\n<style scoped>\n    .dataframe tbody tr th:only-of-type {\n        vertical-align: middle;\n    }\n\n    .dataframe tbody tr th {\n        vertical-align: top;\n    }\n\n    .dataframe thead th {\n        text-align: right;\n    }\n</style>\n<table border=\"1\" class=\"dataframe\">\n  <thead>\n    <tr style=\"text-align: right;\">\n      <th></th>\n      <th>Name</th>\n      <th>Team</th>\n      <th>G</th>\n      <th>PA</th>\n      <th>AB</th>\n      <th>H</th>\n      <th>2B</th>\n      <th>3B</th>\n      <th>HR</th>\n      <th>R</th>\n      <th>...</th>\n      <th>wOBA</th>\n      <th>ADP</th>\n      <th>-1</th>\n      <th>InterSD</th>\n      <th>InterSK</th>\n      <th>IntraSD</th>\n      <th>playerid</th>\n      <th>OBPVal</th>\n      <th>AVGVal</th>\n      <th>value</th>\n    </tr>\n  </thead>\n  <tbody>\n    <tr>\n      <th>0</th>\n      <td>Juan Soto</td>\n      <td>WSN</td>\n      <td>153</td>\n      <td>658</td>\n      <td>540</td>\n      <td>164</td>\n      <td>34</td>\n      <td>3</td>\n      <td>38</td>\n      <td>110</td>\n      <td>...</td>\n      <td>0.426</td>\n      <td>3.4</td>\n      <td>NaN</td>\n      <td>3.76</td>\n      <td>0.32</td>\n      <td>0.67</td>\n      <td>20123</td>\n      <td>5.476842</td>\n      <td>9.984940</td>\n      <td>37.764735</td>\n    </tr>\n    <tr>\n      <th>1</th>\n      <td>Mike Trout</td>\n      <td>LAA</td>\n      <td>148</td>\n      <td>650</td>\n      <td>522</td>\n      <td>148</td>\n      <td>27</td>\n      <td>3</td>\n      <td>43</td>\n      <td>111</td>\n      <td>...</td>\n      <td>0.420</td>\n      <td>5.9</td>\n      <td>NaN</td>\n      <td>2.56</td>\n      <td>-0.73</td>\n      <td>1.09</td>\n      <td>10155</td>\n      <td>4.875000</td>\n      <td>9.307737</td>\n      <td>36.605344</td>\n    </tr>\n    <tr>\n      <th>2</th>\n      <td>Freddie Freeman</td>\n      <td>ATL</td>\n      <td>154</td>\n      <td>675</td>\n      <td>575</td>\n      <td>172</td>\n      <td>38</td>\n      <td>2</td>\n      <td>32</td>\n      <td>106</td>\n      <td>...</td>\n      <td>0.396</td>\n      <td>12.9</td>\n      <td>NaN</td>\n      <td>2.12</td>\n      <td>0.00</td>\n      <td>1.20</td>\n      <td>5361</td>\n      <td>3.985240</td>\n      <td>9.848627</td>\n      <td>33.076271</td>\n    </tr>\n    <tr>\n      <th>3</th>\n      <td>Ronald Acuna Jr.</td>\n      <td>ATL</td>\n      <td>149</td>\n      <td>658</td>\n      <td>563</td>\n      <td>156</td>\n      <td>29</td>\n      <td>3</td>\n      <td>39</td>\n      <td>117</td>\n      <td>...</td>\n      <td>0.390</td>\n      <td>1.6</td>\n      <td>NaN</td>\n      <td>3.99</td>\n      <td>0.16</td>\n      <td>0.95</td>\n      <td>18401</td>\n      <td>2.677567</td>\n      <td>9.066174</td>\n      <td>36.253502</td>\n    </tr>\n    <tr>\n      <th>4</th>\n      <td>Christian Yelich</td>\n      <td>MIL</td>\n      <td>148</td>\n      <td>649</td>\n      <td>547</td>\n      <td>150</td>\n      <td>29</td>\n      <td>3</td>\n      <td>35</td>\n      <td>103</td>\n      <td>...</td>\n      <td>0.387</td>\n      <td>10.7</td>\n      <td>NaN</td>\n      <td>3.30</td>\n      <td>-1.25</td>\n      <td>0.41</td>\n      <td>11477</td>\n      <td>3.125278</td>\n      <td>8.979678</td>\n      <td>32.207490</td>\n    </tr>\n  </tbody>\n</table>\n<p>5 rows × 29 columns</p>\n</div>"
     },
     "metadata": {},
     "execution_count": 23
    }
   ],
   "source": [
    "hittersmean.head()"
   ]
  },
  {
   "cell_type": "code",
   "execution_count": 7,
   "metadata": {},
   "outputs": [],
   "source": [
    "hittersmean['OBPVal'] = ((hittersmean['PA']*hittersmean['OBP']+2037.4)/(hittersmean['PA']+6100)-.334)/.0016\n",
    "hittersmean['AVGVal'] = ((hittersmean['H']+1768)/(hittersmean['AB']+6100)-.267)/.0024\n",
    "hittersmean['value'] = hittersmean['OBPVal']+(hittersmean['R']/8.92+hittersmean['HR']/7.5+hittersmean['RBI']/8.92+hittersmean['SB']/6.0)"
   ]
  },
  {
   "cell_type": "code",
   "execution_count": 12,
   "metadata": {},
   "outputs": [],
   "source": [
    "#https://www.fangraphs.com/leaders.aspx?pos=all&stats=fld&lg=all&qual=0&type=1&season=2020&month=0&season1=2020&ind=0&team=0&rost=0&age=0&filter=&players=0&startdate=&enddate=\n",
    "positions = pd.read_csv(\"positions.csv\")"
   ]
  },
  {
   "cell_type": "code",
   "execution_count": 13,
   "metadata": {},
   "outputs": [],
   "source": [
    "positions['Pos']=positions['Pos'].replace(['LF','CF','RF'],'OF')\n"
   ]
  },
  {
   "cell_type": "code",
   "execution_count": 15,
   "metadata": {},
   "outputs": [],
   "source": [
    "positions_unique=positions.loc[(positions['G']>=10) | (positions['GS']>=5)].groupby('playerid')['Pos'].unique()\n"
   ]
  },
  {
   "cell_type": "code",
   "execution_count": 24,
   "metadata": {},
   "outputs": [
    {
     "output_type": "error",
     "ename": "ValueError",
     "evalue": "You are trying to merge on object and int64 columns. If you wish to proceed you should use pd.concat",
     "traceback": [
      "\u001b[1;31m---------------------------------------------------------------------------\u001b[0m",
      "\u001b[1;31mValueError\u001b[0m                                Traceback (most recent call last)",
      "\u001b[1;32m<ipython-input-24-d3065dacae60>\u001b[0m in \u001b[0;36m<module>\u001b[1;34m\u001b[0m\n\u001b[1;32m----> 1\u001b[1;33m \u001b[0mhitterspos\u001b[0m\u001b[1;33m=\u001b[0m\u001b[0mpd\u001b[0m\u001b[1;33m.\u001b[0m\u001b[0mmerge\u001b[0m\u001b[1;33m(\u001b[0m\u001b[0mhittersmean\u001b[0m\u001b[1;33m,\u001b[0m\u001b[0mpositions_unique\u001b[0m\u001b[1;33m,\u001b[0m\u001b[0mhow\u001b[0m\u001b[1;33m=\u001b[0m\u001b[1;34m'left'\u001b[0m\u001b[1;33m,\u001b[0m\u001b[0mleft_on\u001b[0m\u001b[1;33m=\u001b[0m\u001b[1;34m'playerid'\u001b[0m\u001b[1;33m,\u001b[0m\u001b[0mright_index\u001b[0m\u001b[1;33m=\u001b[0m\u001b[1;32mTrue\u001b[0m\u001b[1;33m)\u001b[0m\u001b[1;33m\u001b[0m\u001b[0m\n\u001b[0m",
      "\u001b[1;32mC:\\Python36\\lib\\site-packages\\pandas\\core\\reshape\\merge.py\u001b[0m in \u001b[0;36mmerge\u001b[1;34m(left, right, how, on, left_on, right_on, left_index, right_index, sort, suffixes, copy, indicator, validate)\u001b[0m\n\u001b[0;32m     85\u001b[0m         \u001b[0mcopy\u001b[0m\u001b[1;33m=\u001b[0m\u001b[0mcopy\u001b[0m\u001b[1;33m,\u001b[0m\u001b[1;33m\u001b[0m\u001b[0m\n\u001b[0;32m     86\u001b[0m         \u001b[0mindicator\u001b[0m\u001b[1;33m=\u001b[0m\u001b[0mindicator\u001b[0m\u001b[1;33m,\u001b[0m\u001b[1;33m\u001b[0m\u001b[0m\n\u001b[1;32m---> 87\u001b[1;33m         \u001b[0mvalidate\u001b[0m\u001b[1;33m=\u001b[0m\u001b[0mvalidate\u001b[0m\u001b[1;33m,\u001b[0m\u001b[1;33m\u001b[0m\u001b[0m\n\u001b[0m\u001b[0;32m     88\u001b[0m     )\n\u001b[0;32m     89\u001b[0m     \u001b[1;32mreturn\u001b[0m \u001b[0mop\u001b[0m\u001b[1;33m.\u001b[0m\u001b[0mget_result\u001b[0m\u001b[1;33m(\u001b[0m\u001b[1;33m)\u001b[0m\u001b[1;33m\u001b[0m\u001b[0m\n",
      "\u001b[1;32mC:\\Python36\\lib\\site-packages\\pandas\\core\\reshape\\merge.py\u001b[0m in \u001b[0;36m__init__\u001b[1;34m(self, left, right, how, on, left_on, right_on, axis, left_index, right_index, sort, suffixes, copy, indicator, validate)\u001b[0m\n\u001b[0;32m    654\u001b[0m         \u001b[1;31m# validate the merge keys dtypes. We may need to coerce\u001b[0m\u001b[1;33m\u001b[0m\u001b[1;33m\u001b[0m\u001b[0m\n\u001b[0;32m    655\u001b[0m         \u001b[1;31m# to avoid incompatible dtypes\u001b[0m\u001b[1;33m\u001b[0m\u001b[1;33m\u001b[0m\u001b[0m\n\u001b[1;32m--> 656\u001b[1;33m         \u001b[0mself\u001b[0m\u001b[1;33m.\u001b[0m\u001b[0m_maybe_coerce_merge_keys\u001b[0m\u001b[1;33m(\u001b[0m\u001b[1;33m)\u001b[0m\u001b[1;33m\u001b[0m\u001b[0m\n\u001b[0m\u001b[0;32m    657\u001b[0m \u001b[1;33m\u001b[0m\u001b[0m\n\u001b[0;32m    658\u001b[0m         \u001b[1;31m# If argument passed to validate,\u001b[0m\u001b[1;33m\u001b[0m\u001b[1;33m\u001b[0m\u001b[0m\n",
      "\u001b[1;32mC:\\Python36\\lib\\site-packages\\pandas\\core\\reshape\\merge.py\u001b[0m in \u001b[0;36m_maybe_coerce_merge_keys\u001b[1;34m(self)\u001b[0m\n\u001b[0;32m   1163\u001b[0m                     \u001b[0minferred_right\u001b[0m \u001b[1;32min\u001b[0m \u001b[0mstring_types\u001b[0m \u001b[1;32mand\u001b[0m \u001b[0minferred_left\u001b[0m \u001b[1;32mnot\u001b[0m \u001b[1;32min\u001b[0m \u001b[0mstring_types\u001b[0m\u001b[1;33m\u001b[0m\u001b[0m\n\u001b[0;32m   1164\u001b[0m                 ):\n\u001b[1;32m-> 1165\u001b[1;33m                     \u001b[1;32mraise\u001b[0m \u001b[0mValueError\u001b[0m\u001b[1;33m(\u001b[0m\u001b[0mmsg\u001b[0m\u001b[1;33m)\u001b[0m\u001b[1;33m\u001b[0m\u001b[0m\n\u001b[0m\u001b[0;32m   1166\u001b[0m \u001b[1;33m\u001b[0m\u001b[0m\n\u001b[0;32m   1167\u001b[0m             \u001b[1;31m# datetimelikes must match exactly\u001b[0m\u001b[1;33m\u001b[0m\u001b[1;33m\u001b[0m\u001b[0m\n",
      "\u001b[1;31mValueError\u001b[0m: You are trying to merge on object and int64 columns. If you wish to proceed you should use pd.concat"
     ]
    }
   ],
   "source": [
    "hitterspos=pd.join(hittersmean,positions_unique,how='left',left_on='playerid',right_index=True)\n"
   ]
  },
  {
   "cell_type": "code",
   "execution_count": null,
   "metadata": {},
   "outputs": [],
   "source": []
  }
 ]
}