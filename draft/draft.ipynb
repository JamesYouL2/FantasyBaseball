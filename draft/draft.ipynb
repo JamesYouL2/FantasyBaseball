{
 "metadata": {
  "language_info": {
   "codemirror_mode": {
    "name": "ipython",
    "version": 3
   },
   "file_extension": ".py",
   "mimetype": "text/x-python",
   "name": "python",
   "nbconvert_exporter": "python",
   "pygments_lexer": "ipython3",
   "version": "3.6.3-final"
  },
  "orig_nbformat": 2,
  "kernelspec": {
   "name": "python3",
   "display_name": "Python 3.6.3 64-bit",
   "metadata": {
    "interpreter": {
     "hash": "e7c37ba80a6e54a3d63188245ab5de6a3e0d381993bcb1990a7020536fc2299e"
    }
   }
  }
 },
 "nbformat": 4,
 "nbformat_minor": 2,
 "cells": [
  {
   "cell_type": "code",
   "execution_count": 71,
   "metadata": {},
   "outputs": [],
   "source": [
    "import pandas as pd\n",
    "import numpy as np"
   ]
  },
  {
   "cell_type": "code",
   "execution_count": 72,
   "metadata": {},
   "outputs": [],
   "source": [
    "def GetPosition (array):\n",
    "    if isinstance(array,np.ndarray):\n",
    "        if array.__contains__('C'):\n",
    "            return 'C'\n",
    "        if array.__contains__('2B'):\n",
    "            return '2B'\n",
    "        if array.__contains__('SS'):\n",
    "            return 'SS'\n",
    "        if array.__contains__('3B'):\n",
    "            return '3B'\n",
    "        if array.__contains__('1B'):\n",
    "            return '1B'\n",
    "        if array.__contains__('OF'):\n",
    "            return 'OF'\n",
    "    else: \n",
    "        return '1B'"
   ]
  },
  {
   "cell_type": "code",
   "execution_count": 73,
   "metadata": {},
   "outputs": [],
   "source": [
    "atcbat = pd.read_csv(\"batters.csv\")"
   ]
  },
  {
   "cell_type": "code",
   "execution_count": 74,
   "metadata": {},
   "outputs": [],
   "source": [
    "atcpit = pd.read_csv(\"pitchers.csv\")"
   ]
  },
  {
   "cell_type": "code",
   "execution_count": 75,
   "metadata": {},
   "outputs": [],
   "source": [
    "hittersmean = atcbat\n",
    "pitchersmean = atcpit"
   ]
  },
  {
   "cell_type": "code",
   "execution_count": 76,
   "metadata": {},
   "outputs": [
    {
     "output_type": "execute_result",
     "data": {
      "text/plain": [
       "                 Name Team    G   PA   AB    H  2B  3B  HR    R  ...    OBP  \\\n",
       "0           Juan Soto  WSN  153  657  539  164  34   3  38  110  ...  0.424   \n",
       "1          Mike Trout  LAA  149  652  524  149  27   4  44  112  ...  0.416   \n",
       "2     Freddie Freeman  ATL  154  674  575  172  38   2  32  106  ...  0.398   \n",
       "3    Ronald Acuna Jr.  ATL  149  657  562  156  29   3  39  118  ...  0.378   \n",
       "4    Christian Yelich  MIL  148  648  546  150  29   3  35  103  ...  0.386   \n",
       "..                ...  ...  ...  ...  ...  ...  ..  ..  ..  ...  ...    ...   \n",
       "638    Rodolfo Castro  NaN    9   34   32    6   1   0   1    3  ...  0.240   \n",
       "639        Joe Hudson  PIT   10   28   25    5   1   0   0    2  ...  0.256   \n",
       "640    Billy Hamilton  CHW   14   45   41    9   1   0   0    6  ...  0.274   \n",
       "641        Ryan Goins  ATL   26   34   30    5   1   0   1    4  ...  0.250   \n",
       "642       Joseph Odom  TBR   12   38   35    6   1   0   1    4  ...  0.246   \n",
       "\n",
       "       SLG    OPS   wOBA    ADP  -1  InterSD  InterSK  IntraSD  playerid  \n",
       "0    0.591  1.015  0.426    3.5 NaN     3.79     0.29     0.68     20123  \n",
       "1    0.602  1.018  0.421    6.0 NaN     2.26    -0.56     1.11     10155  \n",
       "2    0.543  0.941  0.396   13.1 NaN     1.90    -0.11     1.20      5361  \n",
       "3    0.546  0.923  0.390    1.6 NaN     4.04     0.10     0.94     18401  \n",
       "4    0.530  0.916  0.387   10.7 NaN     3.47    -1.43     0.41     11477  \n",
       "..     ...    ...    ...    ...  ..      ...      ...      ...       ...  \n",
       "638  0.315  0.555  0.242  999.0 NaN     2.99     2.50     1.85  sa917362  \n",
       "639  0.282  0.538  0.242  999.0 NaN     1.68     0.18     1.89     14412  \n",
       "640  0.255  0.528  0.240  599.7 NaN     3.86     3.41     1.96     10199  \n",
       "641  0.270  0.520  0.237  999.0 NaN     0.00     0.00     1.78      9807  \n",
       "642  0.283  0.530  0.236  999.0 NaN     0.87     1.09     1.82     15535  \n",
       "\n",
       "[643 rows x 26 columns]"
      ],
      "text/html": "<div>\n<style scoped>\n    .dataframe tbody tr th:only-of-type {\n        vertical-align: middle;\n    }\n\n    .dataframe tbody tr th {\n        vertical-align: top;\n    }\n\n    .dataframe thead th {\n        text-align: right;\n    }\n</style>\n<table border=\"1\" class=\"dataframe\">\n  <thead>\n    <tr style=\"text-align: right;\">\n      <th></th>\n      <th>Name</th>\n      <th>Team</th>\n      <th>G</th>\n      <th>PA</th>\n      <th>AB</th>\n      <th>H</th>\n      <th>2B</th>\n      <th>3B</th>\n      <th>HR</th>\n      <th>R</th>\n      <th>...</th>\n      <th>OBP</th>\n      <th>SLG</th>\n      <th>OPS</th>\n      <th>wOBA</th>\n      <th>ADP</th>\n      <th>-1</th>\n      <th>InterSD</th>\n      <th>InterSK</th>\n      <th>IntraSD</th>\n      <th>playerid</th>\n    </tr>\n  </thead>\n  <tbody>\n    <tr>\n      <th>0</th>\n      <td>Juan Soto</td>\n      <td>WSN</td>\n      <td>153</td>\n      <td>657</td>\n      <td>539</td>\n      <td>164</td>\n      <td>34</td>\n      <td>3</td>\n      <td>38</td>\n      <td>110</td>\n      <td>...</td>\n      <td>0.424</td>\n      <td>0.591</td>\n      <td>1.015</td>\n      <td>0.426</td>\n      <td>3.5</td>\n      <td>NaN</td>\n      <td>3.79</td>\n      <td>0.29</td>\n      <td>0.68</td>\n      <td>20123</td>\n    </tr>\n    <tr>\n      <th>1</th>\n      <td>Mike Trout</td>\n      <td>LAA</td>\n      <td>149</td>\n      <td>652</td>\n      <td>524</td>\n      <td>149</td>\n      <td>27</td>\n      <td>4</td>\n      <td>44</td>\n      <td>112</td>\n      <td>...</td>\n      <td>0.416</td>\n      <td>0.602</td>\n      <td>1.018</td>\n      <td>0.421</td>\n      <td>6.0</td>\n      <td>NaN</td>\n      <td>2.26</td>\n      <td>-0.56</td>\n      <td>1.11</td>\n      <td>10155</td>\n    </tr>\n    <tr>\n      <th>2</th>\n      <td>Freddie Freeman</td>\n      <td>ATL</td>\n      <td>154</td>\n      <td>674</td>\n      <td>575</td>\n      <td>172</td>\n      <td>38</td>\n      <td>2</td>\n      <td>32</td>\n      <td>106</td>\n      <td>...</td>\n      <td>0.398</td>\n      <td>0.543</td>\n      <td>0.941</td>\n      <td>0.396</td>\n      <td>13.1</td>\n      <td>NaN</td>\n      <td>1.90</td>\n      <td>-0.11</td>\n      <td>1.20</td>\n      <td>5361</td>\n    </tr>\n    <tr>\n      <th>3</th>\n      <td>Ronald Acuna Jr.</td>\n      <td>ATL</td>\n      <td>149</td>\n      <td>657</td>\n      <td>562</td>\n      <td>156</td>\n      <td>29</td>\n      <td>3</td>\n      <td>39</td>\n      <td>118</td>\n      <td>...</td>\n      <td>0.378</td>\n      <td>0.546</td>\n      <td>0.923</td>\n      <td>0.390</td>\n      <td>1.6</td>\n      <td>NaN</td>\n      <td>4.04</td>\n      <td>0.10</td>\n      <td>0.94</td>\n      <td>18401</td>\n    </tr>\n    <tr>\n      <th>4</th>\n      <td>Christian Yelich</td>\n      <td>MIL</td>\n      <td>148</td>\n      <td>648</td>\n      <td>546</td>\n      <td>150</td>\n      <td>29</td>\n      <td>3</td>\n      <td>35</td>\n      <td>103</td>\n      <td>...</td>\n      <td>0.386</td>\n      <td>0.530</td>\n      <td>0.916</td>\n      <td>0.387</td>\n      <td>10.7</td>\n      <td>NaN</td>\n      <td>3.47</td>\n      <td>-1.43</td>\n      <td>0.41</td>\n      <td>11477</td>\n    </tr>\n    <tr>\n      <th>...</th>\n      <td>...</td>\n      <td>...</td>\n      <td>...</td>\n      <td>...</td>\n      <td>...</td>\n      <td>...</td>\n      <td>...</td>\n      <td>...</td>\n      <td>...</td>\n      <td>...</td>\n      <td>...</td>\n      <td>...</td>\n      <td>...</td>\n      <td>...</td>\n      <td>...</td>\n      <td>...</td>\n      <td>...</td>\n      <td>...</td>\n      <td>...</td>\n      <td>...</td>\n      <td>...</td>\n    </tr>\n    <tr>\n      <th>638</th>\n      <td>Rodolfo Castro</td>\n      <td>NaN</td>\n      <td>9</td>\n      <td>34</td>\n      <td>32</td>\n      <td>6</td>\n      <td>1</td>\n      <td>0</td>\n      <td>1</td>\n      <td>3</td>\n      <td>...</td>\n      <td>0.240</td>\n      <td>0.315</td>\n      <td>0.555</td>\n      <td>0.242</td>\n      <td>999.0</td>\n      <td>NaN</td>\n      <td>2.99</td>\n      <td>2.50</td>\n      <td>1.85</td>\n      <td>sa917362</td>\n    </tr>\n    <tr>\n      <th>639</th>\n      <td>Joe Hudson</td>\n      <td>PIT</td>\n      <td>10</td>\n      <td>28</td>\n      <td>25</td>\n      <td>5</td>\n      <td>1</td>\n      <td>0</td>\n      <td>0</td>\n      <td>2</td>\n      <td>...</td>\n      <td>0.256</td>\n      <td>0.282</td>\n      <td>0.538</td>\n      <td>0.242</td>\n      <td>999.0</td>\n      <td>NaN</td>\n      <td>1.68</td>\n      <td>0.18</td>\n      <td>1.89</td>\n      <td>14412</td>\n    </tr>\n    <tr>\n      <th>640</th>\n      <td>Billy Hamilton</td>\n      <td>CHW</td>\n      <td>14</td>\n      <td>45</td>\n      <td>41</td>\n      <td>9</td>\n      <td>1</td>\n      <td>0</td>\n      <td>0</td>\n      <td>6</td>\n      <td>...</td>\n      <td>0.274</td>\n      <td>0.255</td>\n      <td>0.528</td>\n      <td>0.240</td>\n      <td>599.7</td>\n      <td>NaN</td>\n      <td>3.86</td>\n      <td>3.41</td>\n      <td>1.96</td>\n      <td>10199</td>\n    </tr>\n    <tr>\n      <th>641</th>\n      <td>Ryan Goins</td>\n      <td>ATL</td>\n      <td>26</td>\n      <td>34</td>\n      <td>30</td>\n      <td>5</td>\n      <td>1</td>\n      <td>0</td>\n      <td>1</td>\n      <td>4</td>\n      <td>...</td>\n      <td>0.250</td>\n      <td>0.270</td>\n      <td>0.520</td>\n      <td>0.237</td>\n      <td>999.0</td>\n      <td>NaN</td>\n      <td>0.00</td>\n      <td>0.00</td>\n      <td>1.78</td>\n      <td>9807</td>\n    </tr>\n    <tr>\n      <th>642</th>\n      <td>Joseph Odom</td>\n      <td>TBR</td>\n      <td>12</td>\n      <td>38</td>\n      <td>35</td>\n      <td>6</td>\n      <td>1</td>\n      <td>0</td>\n      <td>1</td>\n      <td>4</td>\n      <td>...</td>\n      <td>0.246</td>\n      <td>0.283</td>\n      <td>0.530</td>\n      <td>0.236</td>\n      <td>999.0</td>\n      <td>NaN</td>\n      <td>0.87</td>\n      <td>1.09</td>\n      <td>1.82</td>\n      <td>15535</td>\n    </tr>\n  </tbody>\n</table>\n<p>643 rows × 26 columns</p>\n</div>"
     },
     "metadata": {},
     "execution_count": 76
    }
   ],
   "source": [
    "hittersmean"
   ]
  },
  {
   "cell_type": "code",
   "execution_count": 77,
   "metadata": {},
   "outputs": [],
   "source": [
    "hittersmean['OBPVal'] = ((hittersmean['PA']*hittersmean['OBP']++2037.4)/(hittersmean['PA']+6100)-.334)/.0016\n",
    "hittersmean['AVGVal'] = ((hittersmean['H']+1768)/(hittersmean['AB']+6100)-.267)/.0024\n",
    "hittersmean['value'] = hittersmean['OBPVal']+(hittersmean['R']/8.92+hittersmean['HR']/7.5+hittersmean['RBI']/8.92+hittersmean['SB']/6.0)"
   ]
  },
  {
   "cell_type": "code",
   "execution_count": 78,
   "metadata": {},
   "outputs": [],
   "source": [
    "#https://www.fangraphs.com/leaders.aspx?pos=all&stats=fld&lg=all&qual=0&type=1&season=2020&month=0&season1=2020&ind=0&team=0&rost=0&age=0&filter=&players=0&startdate=&enddate=\n",
    "positions = pd.read_csv(\"positions.csv\")"
   ]
  },
  {
   "cell_type": "code",
   "execution_count": 79,
   "metadata": {},
   "outputs": [],
   "source": [
    "positions['Pos']=positions['Pos'].replace(['LF','CF','RF'],'OF')\n"
   ]
  },
  {
   "cell_type": "code",
   "execution_count": 80,
   "metadata": {},
   "outputs": [],
   "source": [
    "positions_unique=positions.loc[(positions['G']>=10) | (positions['GS']>=5)].groupby('playerid')['Pos'].unique()\n"
   ]
  },
  {
   "cell_type": "code",
   "execution_count": 81,
   "metadata": {},
   "outputs": [],
   "source": [
    "positions_unique.index=positions_unique.index.map(str)"
   ]
  },
  {
   "cell_type": "code",
   "execution_count": 82,
   "metadata": {},
   "outputs": [],
   "source": [
    "hitterspos=pd.merge(hittersmean,positions_unique,how='left',left_on='playerid',right_index=True)\n"
   ]
  },
  {
   "cell_type": "code",
   "execution_count": 83,
   "metadata": {},
   "outputs": [
    {
     "output_type": "execute_result",
     "data": {
      "text/plain": [
       "                 Name Team    G   PA   AB    H  2B  3B  HR    R  ...    ADP  \\\n",
       "0           Juan Soto  WSN  153  657  539  164  34   3  38  110  ...    3.5   \n",
       "1          Mike Trout  LAA  149  652  524  149  27   4  44  112  ...    6.0   \n",
       "2     Freddie Freeman  ATL  154  674  575  172  38   2  32  106  ...   13.1   \n",
       "3    Ronald Acuna Jr.  ATL  149  657  562  156  29   3  39  118  ...    1.6   \n",
       "4    Christian Yelich  MIL  148  648  546  150  29   3  35  103  ...   10.7   \n",
       "..                ...  ...  ...  ...  ...  ...  ..  ..  ..  ...  ...    ...   \n",
       "638    Rodolfo Castro  NaN    9   34   32    6   1   0   1    3  ...  999.0   \n",
       "639        Joe Hudson  PIT   10   28   25    5   1   0   0    2  ...  999.0   \n",
       "640    Billy Hamilton  CHW   14   45   41    9   1   0   0    6  ...  599.7   \n",
       "641        Ryan Goins  ATL   26   34   30    5   1   0   1    4  ...  999.0   \n",
       "642       Joseph Odom  TBR   12   38   35    6   1   0   1    4  ...  999.0   \n",
       "\n",
       "     -1  InterSD  InterSK  IntraSD  playerid    OBPVal     AVGVal      value  \\\n",
       "0   NaN     3.79     0.29     0.68     20123  5.469328  10.003201  37.757220   \n",
       "1   NaN     2.26    -0.56     1.11     10155  4.948904   9.334239  37.036796   \n",
       "2   NaN     1.90    -0.11     1.20      5361  3.979923   9.848627  33.070955   \n",
       "3   NaN     4.04     0.10     0.94     18401  2.673894   9.084234  36.361936   \n",
       "4   NaN     3.47    -1.43     0.41     11477  3.120925   8.997768  32.203137   \n",
       "..   ..      ...      ...      ...       ...       ...        ...        ...   \n",
       "638 NaN     2.99     2.50     1.85  sa917362 -0.325644   9.292509   0.480335   \n",
       "639 NaN     1.68     0.18     1.89     14412 -0.222748   9.362245   0.337790   \n",
       "640 NaN     3.86     3.41     1.96     10199 -0.274614   9.319397   1.401022   \n",
       "641 NaN     0.00     0.00     1.78      9807 -0.291001   9.263866   0.739193   \n",
       "642 NaN     0.87     1.09     1.82     15535 -0.340502   9.233564   0.689693   \n",
       "\n",
       "      Pos  \n",
       "0    [OF]  \n",
       "1    [OF]  \n",
       "2    [1B]  \n",
       "3    [OF]  \n",
       "4    [OF]  \n",
       "..    ...  \n",
       "638   NaN  \n",
       "639   [C]  \n",
       "640  [OF]  \n",
       "641   NaN  \n",
       "642   [C]  \n",
       "\n",
       "[643 rows x 30 columns]"
      ],
      "text/html": "<div>\n<style scoped>\n    .dataframe tbody tr th:only-of-type {\n        vertical-align: middle;\n    }\n\n    .dataframe tbody tr th {\n        vertical-align: top;\n    }\n\n    .dataframe thead th {\n        text-align: right;\n    }\n</style>\n<table border=\"1\" class=\"dataframe\">\n  <thead>\n    <tr style=\"text-align: right;\">\n      <th></th>\n      <th>Name</th>\n      <th>Team</th>\n      <th>G</th>\n      <th>PA</th>\n      <th>AB</th>\n      <th>H</th>\n      <th>2B</th>\n      <th>3B</th>\n      <th>HR</th>\n      <th>R</th>\n      <th>...</th>\n      <th>ADP</th>\n      <th>-1</th>\n      <th>InterSD</th>\n      <th>InterSK</th>\n      <th>IntraSD</th>\n      <th>playerid</th>\n      <th>OBPVal</th>\n      <th>AVGVal</th>\n      <th>value</th>\n      <th>Pos</th>\n    </tr>\n  </thead>\n  <tbody>\n    <tr>\n      <th>0</th>\n      <td>Juan Soto</td>\n      <td>WSN</td>\n      <td>153</td>\n      <td>657</td>\n      <td>539</td>\n      <td>164</td>\n      <td>34</td>\n      <td>3</td>\n      <td>38</td>\n      <td>110</td>\n      <td>...</td>\n      <td>3.5</td>\n      <td>NaN</td>\n      <td>3.79</td>\n      <td>0.29</td>\n      <td>0.68</td>\n      <td>20123</td>\n      <td>5.469328</td>\n      <td>10.003201</td>\n      <td>37.757220</td>\n      <td>[OF]</td>\n    </tr>\n    <tr>\n      <th>1</th>\n      <td>Mike Trout</td>\n      <td>LAA</td>\n      <td>149</td>\n      <td>652</td>\n      <td>524</td>\n      <td>149</td>\n      <td>27</td>\n      <td>4</td>\n      <td>44</td>\n      <td>112</td>\n      <td>...</td>\n      <td>6.0</td>\n      <td>NaN</td>\n      <td>2.26</td>\n      <td>-0.56</td>\n      <td>1.11</td>\n      <td>10155</td>\n      <td>4.948904</td>\n      <td>9.334239</td>\n      <td>37.036796</td>\n      <td>[OF]</td>\n    </tr>\n    <tr>\n      <th>2</th>\n      <td>Freddie Freeman</td>\n      <td>ATL</td>\n      <td>154</td>\n      <td>674</td>\n      <td>575</td>\n      <td>172</td>\n      <td>38</td>\n      <td>2</td>\n      <td>32</td>\n      <td>106</td>\n      <td>...</td>\n      <td>13.1</td>\n      <td>NaN</td>\n      <td>1.90</td>\n      <td>-0.11</td>\n      <td>1.20</td>\n      <td>5361</td>\n      <td>3.979923</td>\n      <td>9.848627</td>\n      <td>33.070955</td>\n      <td>[1B]</td>\n    </tr>\n    <tr>\n      <th>3</th>\n      <td>Ronald Acuna Jr.</td>\n      <td>ATL</td>\n      <td>149</td>\n      <td>657</td>\n      <td>562</td>\n      <td>156</td>\n      <td>29</td>\n      <td>3</td>\n      <td>39</td>\n      <td>118</td>\n      <td>...</td>\n      <td>1.6</td>\n      <td>NaN</td>\n      <td>4.04</td>\n      <td>0.10</td>\n      <td>0.94</td>\n      <td>18401</td>\n      <td>2.673894</td>\n      <td>9.084234</td>\n      <td>36.361936</td>\n      <td>[OF]</td>\n    </tr>\n    <tr>\n      <th>4</th>\n      <td>Christian Yelich</td>\n      <td>MIL</td>\n      <td>148</td>\n      <td>648</td>\n      <td>546</td>\n      <td>150</td>\n      <td>29</td>\n      <td>3</td>\n      <td>35</td>\n      <td>103</td>\n      <td>...</td>\n      <td>10.7</td>\n      <td>NaN</td>\n      <td>3.47</td>\n      <td>-1.43</td>\n      <td>0.41</td>\n      <td>11477</td>\n      <td>3.120925</td>\n      <td>8.997768</td>\n      <td>32.203137</td>\n      <td>[OF]</td>\n    </tr>\n    <tr>\n      <th>...</th>\n      <td>...</td>\n      <td>...</td>\n      <td>...</td>\n      <td>...</td>\n      <td>...</td>\n      <td>...</td>\n      <td>...</td>\n      <td>...</td>\n      <td>...</td>\n      <td>...</td>\n      <td>...</td>\n      <td>...</td>\n      <td>...</td>\n      <td>...</td>\n      <td>...</td>\n      <td>...</td>\n      <td>...</td>\n      <td>...</td>\n      <td>...</td>\n      <td>...</td>\n      <td>...</td>\n    </tr>\n    <tr>\n      <th>638</th>\n      <td>Rodolfo Castro</td>\n      <td>NaN</td>\n      <td>9</td>\n      <td>34</td>\n      <td>32</td>\n      <td>6</td>\n      <td>1</td>\n      <td>0</td>\n      <td>1</td>\n      <td>3</td>\n      <td>...</td>\n      <td>999.0</td>\n      <td>NaN</td>\n      <td>2.99</td>\n      <td>2.50</td>\n      <td>1.85</td>\n      <td>sa917362</td>\n      <td>-0.325644</td>\n      <td>9.292509</td>\n      <td>0.480335</td>\n      <td>NaN</td>\n    </tr>\n    <tr>\n      <th>639</th>\n      <td>Joe Hudson</td>\n      <td>PIT</td>\n      <td>10</td>\n      <td>28</td>\n      <td>25</td>\n      <td>5</td>\n      <td>1</td>\n      <td>0</td>\n      <td>0</td>\n      <td>2</td>\n      <td>...</td>\n      <td>999.0</td>\n      <td>NaN</td>\n      <td>1.68</td>\n      <td>0.18</td>\n      <td>1.89</td>\n      <td>14412</td>\n      <td>-0.222748</td>\n      <td>9.362245</td>\n      <td>0.337790</td>\n      <td>[C]</td>\n    </tr>\n    <tr>\n      <th>640</th>\n      <td>Billy Hamilton</td>\n      <td>CHW</td>\n      <td>14</td>\n      <td>45</td>\n      <td>41</td>\n      <td>9</td>\n      <td>1</td>\n      <td>0</td>\n      <td>0</td>\n      <td>6</td>\n      <td>...</td>\n      <td>599.7</td>\n      <td>NaN</td>\n      <td>3.86</td>\n      <td>3.41</td>\n      <td>1.96</td>\n      <td>10199</td>\n      <td>-0.274614</td>\n      <td>9.319397</td>\n      <td>1.401022</td>\n      <td>[OF]</td>\n    </tr>\n    <tr>\n      <th>641</th>\n      <td>Ryan Goins</td>\n      <td>ATL</td>\n      <td>26</td>\n      <td>34</td>\n      <td>30</td>\n      <td>5</td>\n      <td>1</td>\n      <td>0</td>\n      <td>1</td>\n      <td>4</td>\n      <td>...</td>\n      <td>999.0</td>\n      <td>NaN</td>\n      <td>0.00</td>\n      <td>0.00</td>\n      <td>1.78</td>\n      <td>9807</td>\n      <td>-0.291001</td>\n      <td>9.263866</td>\n      <td>0.739193</td>\n      <td>NaN</td>\n    </tr>\n    <tr>\n      <th>642</th>\n      <td>Joseph Odom</td>\n      <td>TBR</td>\n      <td>12</td>\n      <td>38</td>\n      <td>35</td>\n      <td>6</td>\n      <td>1</td>\n      <td>0</td>\n      <td>1</td>\n      <td>4</td>\n      <td>...</td>\n      <td>999.0</td>\n      <td>NaN</td>\n      <td>0.87</td>\n      <td>1.09</td>\n      <td>1.82</td>\n      <td>15535</td>\n      <td>-0.340502</td>\n      <td>9.233564</td>\n      <td>0.689693</td>\n      <td>[C]</td>\n    </tr>\n  </tbody>\n</table>\n<p>643 rows × 30 columns</p>\n</div>"
     },
     "metadata": {},
     "execution_count": 83
    }
   ],
   "source": [
    "hitterspos"
   ]
  },
  {
   "source": [],
   "cell_type": "markdown",
   "metadata": {}
  },
  {
   "cell_type": "code",
   "execution_count": 84,
   "metadata": {},
   "outputs": [],
   "source": [
    "hitterspos['BestPos']=hitterspos['Pos'].apply(GetPosition)\n",
    "\n",
    "hitterspos['rank']=hitterspos.groupby('BestPos')['value'].rank(ascending=False)\n",
    "hitterspos['utilrank']=hitterspos['value'].rank(ascending=False)\n"
   ]
  },
  {
   "cell_type": "code",
   "execution_count": 85,
   "metadata": {},
   "outputs": [],
   "source": [
    "###customized league replacement value\n",
    "replacementvalue=hitterspos.groupby('BestPos').value.nlargest(10).groupby('BestPos').min().reset_index(name='PosValue')\n",
    "replacementvalue['UtilValue']=float(hitterspos.loc[hitterspos['utilrank']==80]['value'])\n",
    "\n",
    "replacementvalue['ReplacementValue']=pd.DataFrame([replacementvalue['UtilValue'], replacementvalue['PosValue']]).min()\n"
   ]
  },
  {
   "cell_type": "code",
   "execution_count": 86,
   "metadata": {},
   "outputs": [
    {
     "output_type": "execute_result",
     "data": {
      "text/plain": [
       "  BestPos   PosValue  UtilValue  ReplacementValue\n",
       "0      1B  24.925212   21.81752         21.817520\n",
       "1      2B  22.151789   21.81752         21.817520\n",
       "2      3B  22.116784   21.81752         21.817520\n",
       "3       C  13.373929   21.81752         13.373929\n",
       "4      OF  27.215006   21.81752         21.817520\n",
       "5      SS  23.662320   21.81752         21.817520"
      ],
      "text/html": "<div>\n<style scoped>\n    .dataframe tbody tr th:only-of-type {\n        vertical-align: middle;\n    }\n\n    .dataframe tbody tr th {\n        vertical-align: top;\n    }\n\n    .dataframe thead th {\n        text-align: right;\n    }\n</style>\n<table border=\"1\" class=\"dataframe\">\n  <thead>\n    <tr style=\"text-align: right;\">\n      <th></th>\n      <th>BestPos</th>\n      <th>PosValue</th>\n      <th>UtilValue</th>\n      <th>ReplacementValue</th>\n    </tr>\n  </thead>\n  <tbody>\n    <tr>\n      <th>0</th>\n      <td>1B</td>\n      <td>24.925212</td>\n      <td>21.81752</td>\n      <td>21.817520</td>\n    </tr>\n    <tr>\n      <th>1</th>\n      <td>2B</td>\n      <td>22.151789</td>\n      <td>21.81752</td>\n      <td>21.817520</td>\n    </tr>\n    <tr>\n      <th>2</th>\n      <td>3B</td>\n      <td>22.116784</td>\n      <td>21.81752</td>\n      <td>21.817520</td>\n    </tr>\n    <tr>\n      <th>3</th>\n      <td>C</td>\n      <td>13.373929</td>\n      <td>21.81752</td>\n      <td>13.373929</td>\n    </tr>\n    <tr>\n      <th>4</th>\n      <td>OF</td>\n      <td>27.215006</td>\n      <td>21.81752</td>\n      <td>21.817520</td>\n    </tr>\n    <tr>\n      <th>5</th>\n      <td>SS</td>\n      <td>23.662320</td>\n      <td>21.81752</td>\n      <td>21.817520</td>\n    </tr>\n  </tbody>\n</table>\n</div>"
     },
     "metadata": {},
     "execution_count": 86
    }
   ],
   "source": [
    "replacementvalue"
   ]
  },
  {
   "cell_type": "code",
   "execution_count": 87,
   "metadata": {},
   "outputs": [],
   "source": [
    "hittersfinal=hitterspos.reset_index().merge(replacementvalue,on='BestPos')\n",
    "\n",
    "hittersfinal['VORP']=hittersfinal['value']-hittersfinal['ReplacementValue']\n"
   ]
  },
  {
   "cell_type": "code",
   "execution_count": 88,
   "metadata": {},
   "outputs": [
    {
     "output_type": "execute_result",
     "data": {
      "text/plain": [
       "     index              Name Team    G   PA   AB    H  2B  3B  HR  ...  \\\n",
       "0        0         Juan Soto  WSN  153  657  539  164  34   3  38  ...   \n",
       "1        1        Mike Trout  LAA  149  652  524  149  27   4  44  ...   \n",
       "2        3  Ronald Acuna Jr.  ATL  149  657  562  156  29   3  39  ...   \n",
       "3        4  Christian Yelich  MIL  148  648  546  150  29   3  35  ...   \n",
       "4        5      Bryce Harper  PHI  151  654  533  140  29   2  36  ...   \n",
       "..     ...               ...  ...  ...  ...  ...  ...  ..  ..  ..  ...   \n",
       "638    619       Drew Butera  NaN   21   63   56   12   2   0   1  ...   \n",
       "639    624        Sandy Leon  MIA   18   63   56   11   2   0   1  ...   \n",
       "640    636       Jeff Mathis  NaN   16   55   50    9   2   0   2  ...   \n",
       "641    639        Joe Hudson  PIT   10   28   25    5   1   0   0  ...   \n",
       "642    642       Joseph Odom  TBR   12   38   35    6   1   0   1  ...   \n",
       "\n",
       "        AVGVal      value   Pos  BestPos  rank  utilrank   PosValue  \\\n",
       "0    10.003201  37.757220  [OF]       OF   1.0       1.0  27.215006   \n",
       "1     9.334239  37.036796  [OF]       OF   2.0       2.0  27.215006   \n",
       "2     9.084234  36.361936  [OF]       OF   3.0       3.0  27.215006   \n",
       "3     8.997768  32.203137  [OF]       OF   6.0       9.0  27.215006   \n",
       "4     8.605269  33.389402  [OF]       OF   5.0       6.0  27.215006   \n",
       "..         ...        ...   ...      ...   ...       ...        ...   \n",
       "638   9.228666   0.944848   [C]        C  67.0     566.0  13.373929   \n",
       "639   9.160981   0.864685   [C]        C  69.0     580.0  13.373929   \n",
       "640   9.142954   0.896273   [C]        C  68.0     572.0  13.373929   \n",
       "641   9.362245   0.337790   [C]        C  76.0     641.0  13.373929   \n",
       "642   9.233564   0.689693   [C]        C  71.0     605.0  13.373929   \n",
       "\n",
       "     UtilValue  ReplacementValue       VORP  \n",
       "0     21.81752         21.817520  15.939701  \n",
       "1     21.81752         21.817520  15.219276  \n",
       "2     21.81752         21.817520  14.544416  \n",
       "3     21.81752         21.817520  10.385617  \n",
       "4     21.81752         21.817520  11.571882  \n",
       "..         ...               ...        ...  \n",
       "638   21.81752         13.373929 -12.429082  \n",
       "639   21.81752         13.373929 -12.509245  \n",
       "640   21.81752         13.373929 -12.477657  \n",
       "641   21.81752         13.373929 -13.036139  \n",
       "642   21.81752         13.373929 -12.684237  \n",
       "\n",
       "[643 rows x 38 columns]"
      ],
      "text/html": "<div>\n<style scoped>\n    .dataframe tbody tr th:only-of-type {\n        vertical-align: middle;\n    }\n\n    .dataframe tbody tr th {\n        vertical-align: top;\n    }\n\n    .dataframe thead th {\n        text-align: right;\n    }\n</style>\n<table border=\"1\" class=\"dataframe\">\n  <thead>\n    <tr style=\"text-align: right;\">\n      <th></th>\n      <th>index</th>\n      <th>Name</th>\n      <th>Team</th>\n      <th>G</th>\n      <th>PA</th>\n      <th>AB</th>\n      <th>H</th>\n      <th>2B</th>\n      <th>3B</th>\n      <th>HR</th>\n      <th>...</th>\n      <th>AVGVal</th>\n      <th>value</th>\n      <th>Pos</th>\n      <th>BestPos</th>\n      <th>rank</th>\n      <th>utilrank</th>\n      <th>PosValue</th>\n      <th>UtilValue</th>\n      <th>ReplacementValue</th>\n      <th>VORP</th>\n    </tr>\n  </thead>\n  <tbody>\n    <tr>\n      <th>0</th>\n      <td>0</td>\n      <td>Juan Soto</td>\n      <td>WSN</td>\n      <td>153</td>\n      <td>657</td>\n      <td>539</td>\n      <td>164</td>\n      <td>34</td>\n      <td>3</td>\n      <td>38</td>\n      <td>...</td>\n      <td>10.003201</td>\n      <td>37.757220</td>\n      <td>[OF]</td>\n      <td>OF</td>\n      <td>1.0</td>\n      <td>1.0</td>\n      <td>27.215006</td>\n      <td>21.81752</td>\n      <td>21.817520</td>\n      <td>15.939701</td>\n    </tr>\n    <tr>\n      <th>1</th>\n      <td>1</td>\n      <td>Mike Trout</td>\n      <td>LAA</td>\n      <td>149</td>\n      <td>652</td>\n      <td>524</td>\n      <td>149</td>\n      <td>27</td>\n      <td>4</td>\n      <td>44</td>\n      <td>...</td>\n      <td>9.334239</td>\n      <td>37.036796</td>\n      <td>[OF]</td>\n      <td>OF</td>\n      <td>2.0</td>\n      <td>2.0</td>\n      <td>27.215006</td>\n      <td>21.81752</td>\n      <td>21.817520</td>\n      <td>15.219276</td>\n    </tr>\n    <tr>\n      <th>2</th>\n      <td>3</td>\n      <td>Ronald Acuna Jr.</td>\n      <td>ATL</td>\n      <td>149</td>\n      <td>657</td>\n      <td>562</td>\n      <td>156</td>\n      <td>29</td>\n      <td>3</td>\n      <td>39</td>\n      <td>...</td>\n      <td>9.084234</td>\n      <td>36.361936</td>\n      <td>[OF]</td>\n      <td>OF</td>\n      <td>3.0</td>\n      <td>3.0</td>\n      <td>27.215006</td>\n      <td>21.81752</td>\n      <td>21.817520</td>\n      <td>14.544416</td>\n    </tr>\n    <tr>\n      <th>3</th>\n      <td>4</td>\n      <td>Christian Yelich</td>\n      <td>MIL</td>\n      <td>148</td>\n      <td>648</td>\n      <td>546</td>\n      <td>150</td>\n      <td>29</td>\n      <td>3</td>\n      <td>35</td>\n      <td>...</td>\n      <td>8.997768</td>\n      <td>32.203137</td>\n      <td>[OF]</td>\n      <td>OF</td>\n      <td>6.0</td>\n      <td>9.0</td>\n      <td>27.215006</td>\n      <td>21.81752</td>\n      <td>21.817520</td>\n      <td>10.385617</td>\n    </tr>\n    <tr>\n      <th>4</th>\n      <td>5</td>\n      <td>Bryce Harper</td>\n      <td>PHI</td>\n      <td>151</td>\n      <td>654</td>\n      <td>533</td>\n      <td>140</td>\n      <td>29</td>\n      <td>2</td>\n      <td>36</td>\n      <td>...</td>\n      <td>8.605269</td>\n      <td>33.389402</td>\n      <td>[OF]</td>\n      <td>OF</td>\n      <td>5.0</td>\n      <td>6.0</td>\n      <td>27.215006</td>\n      <td>21.81752</td>\n      <td>21.817520</td>\n      <td>11.571882</td>\n    </tr>\n    <tr>\n      <th>...</th>\n      <td>...</td>\n      <td>...</td>\n      <td>...</td>\n      <td>...</td>\n      <td>...</td>\n      <td>...</td>\n      <td>...</td>\n      <td>...</td>\n      <td>...</td>\n      <td>...</td>\n      <td>...</td>\n      <td>...</td>\n      <td>...</td>\n      <td>...</td>\n      <td>...</td>\n      <td>...</td>\n      <td>...</td>\n      <td>...</td>\n      <td>...</td>\n      <td>...</td>\n      <td>...</td>\n    </tr>\n    <tr>\n      <th>638</th>\n      <td>619</td>\n      <td>Drew Butera</td>\n      <td>NaN</td>\n      <td>21</td>\n      <td>63</td>\n      <td>56</td>\n      <td>12</td>\n      <td>2</td>\n      <td>0</td>\n      <td>1</td>\n      <td>...</td>\n      <td>9.228666</td>\n      <td>0.944848</td>\n      <td>[C]</td>\n      <td>C</td>\n      <td>67.0</td>\n      <td>566.0</td>\n      <td>13.373929</td>\n      <td>21.81752</td>\n      <td>13.373929</td>\n      <td>-12.429082</td>\n    </tr>\n    <tr>\n      <th>639</th>\n      <td>624</td>\n      <td>Sandy Leon</td>\n      <td>MIA</td>\n      <td>18</td>\n      <td>63</td>\n      <td>56</td>\n      <td>11</td>\n      <td>2</td>\n      <td>0</td>\n      <td>1</td>\n      <td>...</td>\n      <td>9.160981</td>\n      <td>0.864685</td>\n      <td>[C]</td>\n      <td>C</td>\n      <td>69.0</td>\n      <td>580.0</td>\n      <td>13.373929</td>\n      <td>21.81752</td>\n      <td>13.373929</td>\n      <td>-12.509245</td>\n    </tr>\n    <tr>\n      <th>640</th>\n      <td>636</td>\n      <td>Jeff Mathis</td>\n      <td>NaN</td>\n      <td>16</td>\n      <td>55</td>\n      <td>50</td>\n      <td>9</td>\n      <td>2</td>\n      <td>0</td>\n      <td>2</td>\n      <td>...</td>\n      <td>9.142954</td>\n      <td>0.896273</td>\n      <td>[C]</td>\n      <td>C</td>\n      <td>68.0</td>\n      <td>572.0</td>\n      <td>13.373929</td>\n      <td>21.81752</td>\n      <td>13.373929</td>\n      <td>-12.477657</td>\n    </tr>\n    <tr>\n      <th>641</th>\n      <td>639</td>\n      <td>Joe Hudson</td>\n      <td>PIT</td>\n      <td>10</td>\n      <td>28</td>\n      <td>25</td>\n      <td>5</td>\n      <td>1</td>\n      <td>0</td>\n      <td>0</td>\n      <td>...</td>\n      <td>9.362245</td>\n      <td>0.337790</td>\n      <td>[C]</td>\n      <td>C</td>\n      <td>76.0</td>\n      <td>641.0</td>\n      <td>13.373929</td>\n      <td>21.81752</td>\n      <td>13.373929</td>\n      <td>-13.036139</td>\n    </tr>\n    <tr>\n      <th>642</th>\n      <td>642</td>\n      <td>Joseph Odom</td>\n      <td>TBR</td>\n      <td>12</td>\n      <td>38</td>\n      <td>35</td>\n      <td>6</td>\n      <td>1</td>\n      <td>0</td>\n      <td>1</td>\n      <td>...</td>\n      <td>9.233564</td>\n      <td>0.689693</td>\n      <td>[C]</td>\n      <td>C</td>\n      <td>71.0</td>\n      <td>605.0</td>\n      <td>13.373929</td>\n      <td>21.81752</td>\n      <td>13.373929</td>\n      <td>-12.684237</td>\n    </tr>\n  </tbody>\n</table>\n<p>643 rows × 38 columns</p>\n</div>"
     },
     "metadata": {},
     "execution_count": 88
    }
   ],
   "source": [
    "hittersfinal"
   ]
  },
  {
   "cell_type": "code",
   "execution_count": 89,
   "metadata": {},
   "outputs": [],
   "source": [
    "\n",
    "########################\n",
    "#CHANGE THE COLUMNS BELOW BASED ON SGP VALUES FOR YOUR LEAGUE\n",
    "pitchersmean['ERA']=((525.55+pitchersmean['ER'])*9/(1350.0+pitchersmean['IP'])-3.5)/-0.1062\n",
    "pitchersmean['WHIP'] =((1620.0+pitchersmean['H']+pitchersmean['BB'])/(1350.0+pitchersmean['IP'])-1.2)/-0.0201\n",
    "pitchersmean['value'] = pitchersmean['ERA']+pitchersmean['WHIP']+(pitchersmean['W']/4.05+pitchersmean['K/9']*pitchersmean['IP']/(55.0*9.0)+(pitchersmean['SV']+pitchersmean['HLD'])/10.0)\n",
    "########################\n",
    "\n",
    "pitchersmean['utilrank']=pitchersmean['value'].rank(ascending=False)\n",
    "\n",
    "###customized league replacement value\n",
    "pitchersmean['ReplacementValue']=float(pitchersmean.loc[pitchersmean['utilrank']==120]['value'])\n",
    "\n",
    "pitchersmean['VORP']=pitchersmean['value']-pitchersmean['ReplacementValue']\n"
   ]
  },
  {
   "cell_type": "code",
   "execution_count": 90,
   "metadata": {},
   "outputs": [
    {
     "output_type": "execute_result",
     "data": {
      "text/plain": [
       "                Name Team   W  L  SV  HLD       ERA  GS   G     IP  ...  \\\n",
       "0      Liam Hendriks  CHW   4  3  33    3  0.306226   0  64   66.0  ...   \n",
       "1         Edwin Diaz  NYM   3  3  30    4  0.200111   0  65   64.0  ...   \n",
       "2       Jacob deGrom  NYM  14  7   0    0  0.885745  30  31  192.0  ...   \n",
       "3    James Karinchak  CLE   3  2  24    5  0.080244   0  65   64.0  ...   \n",
       "4     Devin Williams  MIL   4  3   6   20  0.292513   0  63   68.0  ...   \n",
       "..               ...  ...  .. ..  ..  ...       ...  ..  ..    ...  ...   \n",
       "761    Nestor Cortes  NYY   0  0   0    0 -0.114146   0   3    7.0  ...   \n",
       "762    Dillon Peters  LAA   1  2   0    0 -0.209134   2  18   21.0  ...   \n",
       "763     Albert Abreu  NYY   0  0   0    1 -0.114146   0   6    7.0  ...   \n",
       "764     Justin Grimm  NaN   2  1   0    0 -0.618515   0  26   27.0  ...   \n",
       "765      David McKay  DET   1  0   0    0 -0.228135   0   8   10.0  ...   \n",
       "\n",
       "       ADP  -1  InterSD  InterSK  IntraSD  playerid      value  utilrank  \\\n",
       "0     55.2 NaN     2.13     0.18     1.79      3548   6.994528      16.0   \n",
       "1     73.4 NaN     4.98    -0.27     1.63     14710   6.446546      19.0   \n",
       "2      4.8 NaN     6.04    -1.09     1.97     10954  10.287680       1.0   \n",
       "3     95.1 NaN     3.16     0.02     1.38     20151   5.736641      29.0   \n",
       "4    181.1 NaN     4.57     0.77     0.87     15816   5.783349      27.0   \n",
       "..     ...  ..      ...      ...      ...       ...        ...       ...   \n",
       "761  999.0 NaN     3.31    -1.97     1.06     17874  -0.052746     735.0   \n",
       "762  999.0 NaN     4.35    -0.46     0.83     18790   0.264505     601.0   \n",
       "763  999.0 NaN     5.48    -2.88     1.03     17485   0.022470     711.0   \n",
       "764  999.0 NaN     2.56     0.78     0.49     11720  -0.139461     752.0   \n",
       "765  999.0 NaN     2.61     0.28     0.93     19814   0.055280     696.0   \n",
       "\n",
       "     ReplacementValue      VORP  \n",
       "0            3.500496  3.494032  \n",
       "1            3.500496  2.946050  \n",
       "2            3.500496  6.787184  \n",
       "3            3.500496  2.236145  \n",
       "4            3.500496  2.282853  \n",
       "..                ...       ...  \n",
       "761          3.500496 -3.553242  \n",
       "762          3.500496 -3.235991  \n",
       "763          3.500496 -3.478026  \n",
       "764          3.500496 -3.639957  \n",
       "765          3.500496 -3.445216  \n",
       "\n",
       "[766 rows x 29 columns]"
      ],
      "text/html": "<div>\n<style scoped>\n    .dataframe tbody tr th:only-of-type {\n        vertical-align: middle;\n    }\n\n    .dataframe tbody tr th {\n        vertical-align: top;\n    }\n\n    .dataframe thead th {\n        text-align: right;\n    }\n</style>\n<table border=\"1\" class=\"dataframe\">\n  <thead>\n    <tr style=\"text-align: right;\">\n      <th></th>\n      <th>Name</th>\n      <th>Team</th>\n      <th>W</th>\n      <th>L</th>\n      <th>SV</th>\n      <th>HLD</th>\n      <th>ERA</th>\n      <th>GS</th>\n      <th>G</th>\n      <th>IP</th>\n      <th>...</th>\n      <th>ADP</th>\n      <th>-1</th>\n      <th>InterSD</th>\n      <th>InterSK</th>\n      <th>IntraSD</th>\n      <th>playerid</th>\n      <th>value</th>\n      <th>utilrank</th>\n      <th>ReplacementValue</th>\n      <th>VORP</th>\n    </tr>\n  </thead>\n  <tbody>\n    <tr>\n      <th>0</th>\n      <td>Liam Hendriks</td>\n      <td>CHW</td>\n      <td>4</td>\n      <td>3</td>\n      <td>33</td>\n      <td>3</td>\n      <td>0.306226</td>\n      <td>0</td>\n      <td>64</td>\n      <td>66.0</td>\n      <td>...</td>\n      <td>55.2</td>\n      <td>NaN</td>\n      <td>2.13</td>\n      <td>0.18</td>\n      <td>1.79</td>\n      <td>3548</td>\n      <td>6.994528</td>\n      <td>16.0</td>\n      <td>3.500496</td>\n      <td>3.494032</td>\n    </tr>\n    <tr>\n      <th>1</th>\n      <td>Edwin Diaz</td>\n      <td>NYM</td>\n      <td>3</td>\n      <td>3</td>\n      <td>30</td>\n      <td>4</td>\n      <td>0.200111</td>\n      <td>0</td>\n      <td>65</td>\n      <td>64.0</td>\n      <td>...</td>\n      <td>73.4</td>\n      <td>NaN</td>\n      <td>4.98</td>\n      <td>-0.27</td>\n      <td>1.63</td>\n      <td>14710</td>\n      <td>6.446546</td>\n      <td>19.0</td>\n      <td>3.500496</td>\n      <td>2.946050</td>\n    </tr>\n    <tr>\n      <th>2</th>\n      <td>Jacob deGrom</td>\n      <td>NYM</td>\n      <td>14</td>\n      <td>7</td>\n      <td>0</td>\n      <td>0</td>\n      <td>0.885745</td>\n      <td>30</td>\n      <td>31</td>\n      <td>192.0</td>\n      <td>...</td>\n      <td>4.8</td>\n      <td>NaN</td>\n      <td>6.04</td>\n      <td>-1.09</td>\n      <td>1.97</td>\n      <td>10954</td>\n      <td>10.287680</td>\n      <td>1.0</td>\n      <td>3.500496</td>\n      <td>6.787184</td>\n    </tr>\n    <tr>\n      <th>3</th>\n      <td>James Karinchak</td>\n      <td>CLE</td>\n      <td>3</td>\n      <td>2</td>\n      <td>24</td>\n      <td>5</td>\n      <td>0.080244</td>\n      <td>0</td>\n      <td>65</td>\n      <td>64.0</td>\n      <td>...</td>\n      <td>95.1</td>\n      <td>NaN</td>\n      <td>3.16</td>\n      <td>0.02</td>\n      <td>1.38</td>\n      <td>20151</td>\n      <td>5.736641</td>\n      <td>29.0</td>\n      <td>3.500496</td>\n      <td>2.236145</td>\n    </tr>\n    <tr>\n      <th>4</th>\n      <td>Devin Williams</td>\n      <td>MIL</td>\n      <td>4</td>\n      <td>3</td>\n      <td>6</td>\n      <td>20</td>\n      <td>0.292513</td>\n      <td>0</td>\n      <td>63</td>\n      <td>68.0</td>\n      <td>...</td>\n      <td>181.1</td>\n      <td>NaN</td>\n      <td>4.57</td>\n      <td>0.77</td>\n      <td>0.87</td>\n      <td>15816</td>\n      <td>5.783349</td>\n      <td>27.0</td>\n      <td>3.500496</td>\n      <td>2.282853</td>\n    </tr>\n    <tr>\n      <th>...</th>\n      <td>...</td>\n      <td>...</td>\n      <td>...</td>\n      <td>...</td>\n      <td>...</td>\n      <td>...</td>\n      <td>...</td>\n      <td>...</td>\n      <td>...</td>\n      <td>...</td>\n      <td>...</td>\n      <td>...</td>\n      <td>...</td>\n      <td>...</td>\n      <td>...</td>\n      <td>...</td>\n      <td>...</td>\n      <td>...</td>\n      <td>...</td>\n      <td>...</td>\n      <td>...</td>\n    </tr>\n    <tr>\n      <th>761</th>\n      <td>Nestor Cortes</td>\n      <td>NYY</td>\n      <td>0</td>\n      <td>0</td>\n      <td>0</td>\n      <td>0</td>\n      <td>-0.114146</td>\n      <td>0</td>\n      <td>3</td>\n      <td>7.0</td>\n      <td>...</td>\n      <td>999.0</td>\n      <td>NaN</td>\n      <td>3.31</td>\n      <td>-1.97</td>\n      <td>1.06</td>\n      <td>17874</td>\n      <td>-0.052746</td>\n      <td>735.0</td>\n      <td>3.500496</td>\n      <td>-3.553242</td>\n    </tr>\n    <tr>\n      <th>762</th>\n      <td>Dillon Peters</td>\n      <td>LAA</td>\n      <td>1</td>\n      <td>2</td>\n      <td>0</td>\n      <td>0</td>\n      <td>-0.209134</td>\n      <td>2</td>\n      <td>18</td>\n      <td>21.0</td>\n      <td>...</td>\n      <td>999.0</td>\n      <td>NaN</td>\n      <td>4.35</td>\n      <td>-0.46</td>\n      <td>0.83</td>\n      <td>18790</td>\n      <td>0.264505</td>\n      <td>601.0</td>\n      <td>3.500496</td>\n      <td>-3.235991</td>\n    </tr>\n    <tr>\n      <th>763</th>\n      <td>Albert Abreu</td>\n      <td>NYY</td>\n      <td>0</td>\n      <td>0</td>\n      <td>0</td>\n      <td>1</td>\n      <td>-0.114146</td>\n      <td>0</td>\n      <td>6</td>\n      <td>7.0</td>\n      <td>...</td>\n      <td>999.0</td>\n      <td>NaN</td>\n      <td>5.48</td>\n      <td>-2.88</td>\n      <td>1.03</td>\n      <td>17485</td>\n      <td>0.022470</td>\n      <td>711.0</td>\n      <td>3.500496</td>\n      <td>-3.478026</td>\n    </tr>\n    <tr>\n      <th>764</th>\n      <td>Justin Grimm</td>\n      <td>NaN</td>\n      <td>2</td>\n      <td>1</td>\n      <td>0</td>\n      <td>0</td>\n      <td>-0.618515</td>\n      <td>0</td>\n      <td>26</td>\n      <td>27.0</td>\n      <td>...</td>\n      <td>999.0</td>\n      <td>NaN</td>\n      <td>2.56</td>\n      <td>0.78</td>\n      <td>0.49</td>\n      <td>11720</td>\n      <td>-0.139461</td>\n      <td>752.0</td>\n      <td>3.500496</td>\n      <td>-3.639957</td>\n    </tr>\n    <tr>\n      <th>765</th>\n      <td>David McKay</td>\n      <td>DET</td>\n      <td>1</td>\n      <td>0</td>\n      <td>0</td>\n      <td>0</td>\n      <td>-0.228135</td>\n      <td>0</td>\n      <td>8</td>\n      <td>10.0</td>\n      <td>...</td>\n      <td>999.0</td>\n      <td>NaN</td>\n      <td>2.61</td>\n      <td>0.28</td>\n      <td>0.93</td>\n      <td>19814</td>\n      <td>0.055280</td>\n      <td>696.0</td>\n      <td>3.500496</td>\n      <td>-3.445216</td>\n    </tr>\n  </tbody>\n</table>\n<p>766 rows × 29 columns</p>\n</div>"
     },
     "metadata": {},
     "execution_count": 90
    }
   ],
   "source": [
    "pitchersmean"
   ]
  },
  {
   "cell_type": "code",
   "execution_count": 91,
   "metadata": {},
   "outputs": [],
   "source": [
    "final=pd.concat([hittersfinal,pitchersmean])\n"
   ]
  },
  {
   "cell_type": "code",
   "execution_count": 92,
   "metadata": {},
   "outputs": [
    {
     "output_type": "execute_result",
     "data": {
      "text/plain": [
       "     index                Name Team    G     PA     AB    H    2B   3B  HR  \\\n",
       "0      0.0           Juan Soto  WSN  153  657.0  539.0  164  34.0  3.0  38   \n",
       "1      1.0          Mike Trout  LAA  149  652.0  524.0  149  27.0  4.0  44   \n",
       "2      3.0    Ronald Acuna Jr.  ATL  149  657.0  562.0  156  29.0  3.0  39   \n",
       "5      7.0        Mookie Betts  LAD  148  666.0  577.0  167  35.0  4.0  33   \n",
       "402    8.0  Fernando Tatis Jr.  SDP  147  648.0  574.0  162  29.0  6.0  37   \n",
       "..     ...                 ...  ...  ...    ...    ...  ...   ...  ...  ..   \n",
       "376  597.0        Jose Briceno  COL    6   22.0   20.0    4   1.0  0.0   1   \n",
       "373  592.0    Cheslor Cuthbert  CIN   13   27.0   25.0    5   1.0  0.0   1   \n",
       "324  507.0        Omar Estevez  LAD    5   22.0   20.0    5   1.0  0.0   0   \n",
       "146  608.0      Bubba Starling  KCR    7   23.0   22.0    5   1.0  0.0   0   \n",
       "395  630.0   Gregory Deichmann  OAK    5   21.0   19.0    4   1.0  0.0   0   \n",
       "\n",
       "     ...  SV  HLD  ERA  GS  IP  ER  WHIP  K/9  BB/9  FIP  \n",
       "0    ... NaN  NaN  NaN NaN NaN NaN   NaN  NaN   NaN  NaN  \n",
       "1    ... NaN  NaN  NaN NaN NaN NaN   NaN  NaN   NaN  NaN  \n",
       "2    ... NaN  NaN  NaN NaN NaN NaN   NaN  NaN   NaN  NaN  \n",
       "5    ... NaN  NaN  NaN NaN NaN NaN   NaN  NaN   NaN  NaN  \n",
       "402  ... NaN  NaN  NaN NaN NaN NaN   NaN  NaN   NaN  NaN  \n",
       "..   ...  ..  ...  ...  ..  ..  ..   ...  ...   ...  ...  \n",
       "376  ... NaN  NaN  NaN NaN NaN NaN   NaN  NaN   NaN  NaN  \n",
       "373  ... NaN  NaN  NaN NaN NaN NaN   NaN  NaN   NaN  NaN  \n",
       "324  ... NaN  NaN  NaN NaN NaN NaN   NaN  NaN   NaN  NaN  \n",
       "146  ... NaN  NaN  NaN NaN NaN NaN   NaN  NaN   NaN  NaN  \n",
       "395  ... NaN  NaN  NaN NaN NaN NaN   NaN  NaN   NaN  NaN  \n",
       "\n",
       "[1409 rows x 50 columns]"
      ],
      "text/html": "<div>\n<style scoped>\n    .dataframe tbody tr th:only-of-type {\n        vertical-align: middle;\n    }\n\n    .dataframe tbody tr th {\n        vertical-align: top;\n    }\n\n    .dataframe thead th {\n        text-align: right;\n    }\n</style>\n<table border=\"1\" class=\"dataframe\">\n  <thead>\n    <tr style=\"text-align: right;\">\n      <th></th>\n      <th>index</th>\n      <th>Name</th>\n      <th>Team</th>\n      <th>G</th>\n      <th>PA</th>\n      <th>AB</th>\n      <th>H</th>\n      <th>2B</th>\n      <th>3B</th>\n      <th>HR</th>\n      <th>...</th>\n      <th>SV</th>\n      <th>HLD</th>\n      <th>ERA</th>\n      <th>GS</th>\n      <th>IP</th>\n      <th>ER</th>\n      <th>WHIP</th>\n      <th>K/9</th>\n      <th>BB/9</th>\n      <th>FIP</th>\n    </tr>\n  </thead>\n  <tbody>\n    <tr>\n      <th>0</th>\n      <td>0.0</td>\n      <td>Juan Soto</td>\n      <td>WSN</td>\n      <td>153</td>\n      <td>657.0</td>\n      <td>539.0</td>\n      <td>164</td>\n      <td>34.0</td>\n      <td>3.0</td>\n      <td>38</td>\n      <td>...</td>\n      <td>NaN</td>\n      <td>NaN</td>\n      <td>NaN</td>\n      <td>NaN</td>\n      <td>NaN</td>\n      <td>NaN</td>\n      <td>NaN</td>\n      <td>NaN</td>\n      <td>NaN</td>\n      <td>NaN</td>\n    </tr>\n    <tr>\n      <th>1</th>\n      <td>1.0</td>\n      <td>Mike Trout</td>\n      <td>LAA</td>\n      <td>149</td>\n      <td>652.0</td>\n      <td>524.0</td>\n      <td>149</td>\n      <td>27.0</td>\n      <td>4.0</td>\n      <td>44</td>\n      <td>...</td>\n      <td>NaN</td>\n      <td>NaN</td>\n      <td>NaN</td>\n      <td>NaN</td>\n      <td>NaN</td>\n      <td>NaN</td>\n      <td>NaN</td>\n      <td>NaN</td>\n      <td>NaN</td>\n      <td>NaN</td>\n    </tr>\n    <tr>\n      <th>2</th>\n      <td>3.0</td>\n      <td>Ronald Acuna Jr.</td>\n      <td>ATL</td>\n      <td>149</td>\n      <td>657.0</td>\n      <td>562.0</td>\n      <td>156</td>\n      <td>29.0</td>\n      <td>3.0</td>\n      <td>39</td>\n      <td>...</td>\n      <td>NaN</td>\n      <td>NaN</td>\n      <td>NaN</td>\n      <td>NaN</td>\n      <td>NaN</td>\n      <td>NaN</td>\n      <td>NaN</td>\n      <td>NaN</td>\n      <td>NaN</td>\n      <td>NaN</td>\n    </tr>\n    <tr>\n      <th>5</th>\n      <td>7.0</td>\n      <td>Mookie Betts</td>\n      <td>LAD</td>\n      <td>148</td>\n      <td>666.0</td>\n      <td>577.0</td>\n      <td>167</td>\n      <td>35.0</td>\n      <td>4.0</td>\n      <td>33</td>\n      <td>...</td>\n      <td>NaN</td>\n      <td>NaN</td>\n      <td>NaN</td>\n      <td>NaN</td>\n      <td>NaN</td>\n      <td>NaN</td>\n      <td>NaN</td>\n      <td>NaN</td>\n      <td>NaN</td>\n      <td>NaN</td>\n    </tr>\n    <tr>\n      <th>402</th>\n      <td>8.0</td>\n      <td>Fernando Tatis Jr.</td>\n      <td>SDP</td>\n      <td>147</td>\n      <td>648.0</td>\n      <td>574.0</td>\n      <td>162</td>\n      <td>29.0</td>\n      <td>6.0</td>\n      <td>37</td>\n      <td>...</td>\n      <td>NaN</td>\n      <td>NaN</td>\n      <td>NaN</td>\n      <td>NaN</td>\n      <td>NaN</td>\n      <td>NaN</td>\n      <td>NaN</td>\n      <td>NaN</td>\n      <td>NaN</td>\n      <td>NaN</td>\n    </tr>\n    <tr>\n      <th>...</th>\n      <td>...</td>\n      <td>...</td>\n      <td>...</td>\n      <td>...</td>\n      <td>...</td>\n      <td>...</td>\n      <td>...</td>\n      <td>...</td>\n      <td>...</td>\n      <td>...</td>\n      <td>...</td>\n      <td>...</td>\n      <td>...</td>\n      <td>...</td>\n      <td>...</td>\n      <td>...</td>\n      <td>...</td>\n      <td>...</td>\n      <td>...</td>\n      <td>...</td>\n      <td>...</td>\n    </tr>\n    <tr>\n      <th>376</th>\n      <td>597.0</td>\n      <td>Jose Briceno</td>\n      <td>COL</td>\n      <td>6</td>\n      <td>22.0</td>\n      <td>20.0</td>\n      <td>4</td>\n      <td>1.0</td>\n      <td>0.0</td>\n      <td>1</td>\n      <td>...</td>\n      <td>NaN</td>\n      <td>NaN</td>\n      <td>NaN</td>\n      <td>NaN</td>\n      <td>NaN</td>\n      <td>NaN</td>\n      <td>NaN</td>\n      <td>NaN</td>\n      <td>NaN</td>\n      <td>NaN</td>\n    </tr>\n    <tr>\n      <th>373</th>\n      <td>592.0</td>\n      <td>Cheslor Cuthbert</td>\n      <td>CIN</td>\n      <td>13</td>\n      <td>27.0</td>\n      <td>25.0</td>\n      <td>5</td>\n      <td>1.0</td>\n      <td>0.0</td>\n      <td>1</td>\n      <td>...</td>\n      <td>NaN</td>\n      <td>NaN</td>\n      <td>NaN</td>\n      <td>NaN</td>\n      <td>NaN</td>\n      <td>NaN</td>\n      <td>NaN</td>\n      <td>NaN</td>\n      <td>NaN</td>\n      <td>NaN</td>\n    </tr>\n    <tr>\n      <th>324</th>\n      <td>507.0</td>\n      <td>Omar Estevez</td>\n      <td>LAD</td>\n      <td>5</td>\n      <td>22.0</td>\n      <td>20.0</td>\n      <td>5</td>\n      <td>1.0</td>\n      <td>0.0</td>\n      <td>0</td>\n      <td>...</td>\n      <td>NaN</td>\n      <td>NaN</td>\n      <td>NaN</td>\n      <td>NaN</td>\n      <td>NaN</td>\n      <td>NaN</td>\n      <td>NaN</td>\n      <td>NaN</td>\n      <td>NaN</td>\n      <td>NaN</td>\n    </tr>\n    <tr>\n      <th>146</th>\n      <td>608.0</td>\n      <td>Bubba Starling</td>\n      <td>KCR</td>\n      <td>7</td>\n      <td>23.0</td>\n      <td>22.0</td>\n      <td>5</td>\n      <td>1.0</td>\n      <td>0.0</td>\n      <td>0</td>\n      <td>...</td>\n      <td>NaN</td>\n      <td>NaN</td>\n      <td>NaN</td>\n      <td>NaN</td>\n      <td>NaN</td>\n      <td>NaN</td>\n      <td>NaN</td>\n      <td>NaN</td>\n      <td>NaN</td>\n      <td>NaN</td>\n    </tr>\n    <tr>\n      <th>395</th>\n      <td>630.0</td>\n      <td>Gregory Deichmann</td>\n      <td>OAK</td>\n      <td>5</td>\n      <td>21.0</td>\n      <td>19.0</td>\n      <td>4</td>\n      <td>1.0</td>\n      <td>0.0</td>\n      <td>0</td>\n      <td>...</td>\n      <td>NaN</td>\n      <td>NaN</td>\n      <td>NaN</td>\n      <td>NaN</td>\n      <td>NaN</td>\n      <td>NaN</td>\n      <td>NaN</td>\n      <td>NaN</td>\n      <td>NaN</td>\n      <td>NaN</td>\n    </tr>\n  </tbody>\n</table>\n<p>1409 rows × 50 columns</p>\n</div>"
     },
     "metadata": {},
     "execution_count": 92
    }
   ],
   "source": [
    "final.sort_values('VORP', ascending=False)"
   ]
  },
  {
   "cell_type": "code",
   "execution_count": 93,
   "metadata": {},
   "outputs": [],
   "source": [
    "final.sort_values('VORP', ascending=False).nlargest(200,['VORP']).to_excel(\"Atc.xlsx\")"
   ]
  }
 ]
}